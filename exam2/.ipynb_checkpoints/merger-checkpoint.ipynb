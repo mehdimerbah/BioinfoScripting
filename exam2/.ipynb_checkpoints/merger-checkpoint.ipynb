{
 "cells": [
  {
   "cell_type": "code",
   "execution_count": null,
   "metadata": {},
   "outputs": [],
   "source": [
    "#!/usr/bin/python3\n",
    "import sys\n",
    "\n",
    "while True:\n",
    "    try:\n",
    "        #file1_path = input(\"Enter first file path: \")\n",
    "        file1 = open(\"/home/mehdimerbah/python_scripts/exam2/names.txt\", 'rt')\n",
    "        #file2_path = input(\"Enter second file path: \")\n",
    "        file2 = open(\"/home/mehdimerbah/python_scripts/exam2/majors.txt\", 'rt')\n",
    "        break\n",
    "    except:\n",
    "        print('File Not Found!\\n Try again:')\n"
   ]
  },
  {
   "cell_type": "code",
   "execution_count": 17,
   "metadata": {},
   "outputs": [
    {
     "name": "stdout",
     "output_type": "stream",
     "text": [
      "Enter column to merge the files: std\n",
      "\n"
     ]
    }
   ],
   "source": [
    "column = input(\"Enter column to merge the files: \")\n",
    "idx = 0\n",
    "entries = {}\n",
    "header1 = file1.readline().strip(\"\\t\")\n",
    "print(header1)"
   ]
  },
  {
   "cell_type": "code",
   "execution_count": null,
   "metadata": {},
   "outputs": [],
   "source": []
  }
 ],
 "metadata": {
  "kernelspec": {
   "display_name": "Python 3",
   "language": "python",
   "name": "python3"
  },
  "language_info": {
   "codemirror_mode": {
    "name": "ipython",
    "version": 3
   },
   "file_extension": ".py",
   "mimetype": "text/x-python",
   "name": "python",
   "nbconvert_exporter": "python",
   "pygments_lexer": "ipython3",
   "version": "3.6.9"
  }
 },
 "nbformat": 4,
 "nbformat_minor": 2
}
