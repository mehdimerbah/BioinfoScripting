{
 "cells": [
  {
   "cell_type": "code",
   "execution_count": 1,
   "metadata": {},
   "outputs": [
    {
     "name": "stdout",
     "output_type": "stream",
     "text": [
      "R\n",
      "A\n",
      "C\n",
      "E\n",
      "C\n",
      "A\n",
      "R\n"
     ]
    }
   ],
   "source": [
    "# For loops\n",
    "for char in \"RACECAR\":\n",
    "    print(char)\n",
    "    "
   ]
  },
  {
   "cell_type": "code",
   "execution_count": 2,
   "metadata": {},
   "outputs": [
    {
     "name": "stdout",
     "output_type": "stream",
     "text": [
      "1\n",
      "2\n",
      "3\n",
      "4\n",
      "5\n",
      "6\n",
      "7\n",
      "8\n"
     ]
    }
   ],
   "source": [
    "for i in range(1,9):\n",
    "    print(i)"
   ]
  },
  {
   "cell_type": "code",
   "execution_count": 10,
   "metadata": {},
   "outputs": [
    {
     "name": "stdout",
     "output_type": "stream",
     "text": [
      "Die's value:  3\n",
      "Die's value:  5\n",
      "Die's value:  3\n",
      "Die's value:  1\n",
      "Die's value:  3\n",
      "Die's value:  2\n",
      "Sum of all throws:    17\n",
      "Largest die throw:     5\n",
      "Smallest die throw:    1\n"
     ]
    }
   ],
   "source": [
    "# Dice throwing\n",
    "import random\n",
    "die_res = 0\n",
    "total = 0\n",
    "maximum = 0\n",
    "minimum = 6\n",
    "for i in range(6):\n",
    "    die_res = random.randrange(1, 6)\n",
    "    total += die_res\n",
    "    maximum = max(maximum, die_res)\n",
    "    minimum = min(minimum, die_res)\n",
    "    print(\"Die's value: \", die_res)\n",
    "\n",
    "print('Sum of all throws: %5d\\nLargest die throw: %5d\\nSmallest die throw: %4d' % (total, maximum, minimum))"
   ]
  },
  {
   "cell_type": "code",
   "execution_count": 13,
   "metadata": {},
   "outputs": [
    {
     "name": "stdout",
     "output_type": "stream",
     "text": [
      "Just skipped a step!\n",
      "8\n"
     ]
    }
   ],
   "source": [
    "# While loop\n",
    "c = 0\n",
    "while True:\n",
    "    c += 1\n",
    "    \n",
    "    if c == 4:\n",
    "        c += 1\n",
    "        print('Just skipped a step!')\n",
    "        continue\n",
    "    \n",
    "    if c == 8:\n",
    "        print(c)\n",
    "        break"
   ]
  },
  {
   "cell_type": "code",
   "execution_count": 16,
   "metadata": {},
   "outputs": [
    {
     "name": "stdout",
     "output_type": "stream",
     "text": [
      "Found\n",
      "7\n",
      "17\n"
     ]
    }
   ],
   "source": [
    "# Using the in operator\n",
    "if \"ba\" in \"Benedict Cumberbatch\":\n",
    "    print(\"Found\")\n",
    "else:\n",
    "    print(\"Not Found\")    \n",
    "    "
   ]
  },
  {
   "cell_type": "code",
   "execution_count": 17,
   "metadata": {},
   "outputs": [
    {
     "name": "stdout",
     "output_type": "stream",
     "text": [
      "7\n",
      "17\n",
      "9\n"
     ]
    }
   ],
   "source": [
    "# index() and find()\n",
    "\n",
    "print(\"Benedict Cumberbatch\".index('t'))\n",
    "# rindex also returns the first occurrence\n",
    "print(\"Benedict Cumberbatch\".rindex('t'))\n",
    "\n",
    "# find()\n",
    "print(\"Benedict Cumberbatch\".find('Cu'))"
   ]
  }
 ],
 "metadata": {
  "kernelspec": {
   "display_name": "Python 3",
   "language": "python",
   "name": "python3"
  },
  "language_info": {
   "codemirror_mode": {
    "name": "ipython",
    "version": 3
   },
   "file_extension": ".py",
   "mimetype": "text/x-python",
   "name": "python",
   "nbconvert_exporter": "python",
   "pygments_lexer": "ipython3",
   "version": "3.6.9"
  }
 },
 "nbformat": 4,
 "nbformat_minor": 2
}
