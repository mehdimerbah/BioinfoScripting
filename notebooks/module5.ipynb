{
 "cells": [
  {
   "cell_type": "code",
   "execution_count": 3,
   "metadata": {},
   "outputs": [
    {
     "data": {
      "text/plain": [
       "'This is just a test'"
      ]
     },
     "execution_count": 3,
     "metadata": {},
     "output_type": "execute_result"
    }
   ],
   "source": [
    "# Concatenation using the join function\n",
    "my_list = [\"This\", \"is\", \"just\", \"a\", \"test\"]\n",
    "\" \".join(my_list)"
   ]
  },
  {
   "cell_type": "code",
   "execution_count": 6,
   "metadata": {},
   "outputs": [
    {
     "name": "stdout",
     "output_type": "stream",
     "text": [
      "This is the number list:\n",
      " 1-2-3-4-5-6-7-8\n"
     ]
    }
   ],
   "source": [
    "# The concatenation with join only works with str so\n",
    "#we must cast any data types\n",
    "\n",
    "nums = [str(x) for x in range(1,9)]\n",
    "print(\"This is the number list:\\n\", \"-\".join(nums))"
   ]
  },
  {
   "cell_type": "code",
   "execution_count": 9,
   "metadata": {},
   "outputs": [
    {
     "data": {
      "text/plain": [
       "'0-list-is-This'"
      ]
     },
     "execution_count": 9,
     "metadata": {},
     "output_type": "execute_result"
    }
   ],
   "source": [
    "# We can reverse lists and join them w/ the built-in functions\n",
    "l0 = [\"This\", \"is\", \"list\", \"0\"]\n",
    "l0.reverse()\n",
    "\"-\".join(l0)"
   ]
  },
  {
   "cell_type": "code",
   "execution_count": 16,
   "metadata": {},
   "outputs": [
    {
     "data": {
      "text/plain": [
       "{'key0': 'modified', 'key1': 1, 'key2': 2, 'key3': 3}"
      ]
     },
     "execution_count": 16,
     "metadata": {},
     "output_type": "execute_result"
    }
   ],
   "source": [
    "# Dictionaries are essentially hashmaps\n",
    "\n",
    "dic = {\n",
    "    'key0': 0,\n",
    "    'key1': 1,\n",
    "    'key2': 2\n",
    "}\n",
    "dic['key3'] = 3\n",
    "dic['key0'] = 'modified'\n",
    "dic"
   ]
  },
  {
   "cell_type": "code",
   "execution_count": 20,
   "metadata": {},
   "outputs": [
    {
     "name": "stdout",
     "output_type": "stream",
     "text": [
      "Who are you looking for?\n",
      "Thomas\n",
      "Jefferson City\n"
     ]
    }
   ],
   "source": [
    "# We can create a small address book\n",
    "addressBook = {}\n",
    "addressBook['Jack'] = \"Jackson Ville\"\n",
    "addressBook['George'] = \"Washington\"\n",
    "addressBook['Thomas'] = \"Jefferson City\"\n",
    "\n",
    "x= input(\"Who are you looking for?\\n\")\n",
    "print(addressBook[x])"
   ]
  },
  {
   "cell_type": "code",
   "execution_count": 24,
   "metadata": {},
   "outputs": [
    {
     "name": "stdout",
     "output_type": "stream",
     "text": [
      "Jack : Jackson Ville\n",
      "George : Washington\n",
      "Thomas : Jefferson City\n"
     ]
    }
   ],
   "source": [
    "# Print out the key value pairs\n",
    "\n",
    "for key, val in addressBook.items():\n",
    "    print(key,\":\", val)"
   ]
  },
  {
   "cell_type": "code",
   "execution_count": 26,
   "metadata": {},
   "outputs": [
    {
     "name": "stdout",
     "output_type": "stream",
     "text": [
      "Who are you looking for?\n",
      "Thomas\n",
      "Jefferson City\n"
     ]
    }
   ],
   "source": [
    "# To avoid any issues with non-existent keys, check for them first\n",
    "y = input(\"Who are you looking for?\\n\")\n",
    "if y in addressBook:\n",
    "    print(addressBook[x])\n",
    "else:\n",
    "    print(\"Does not exist\")"
   ]
  },
  {
   "cell_type": "code",
   "execution_count": 35,
   "metadata": {},
   "outputs": [
    {
     "name": "stdout",
     "output_type": "stream",
     "text": [
      "Actinobacteria 8924342\n",
      "Actinobacteria GATCCGA...TCA\n"
     ]
    }
   ],
   "source": [
    "Data = {'Actinobacteria': 'GATCCGA...TCA', 'subtilis sp.': 'ATCGATT...ACT'}\n",
    "dataSet = set(Data.keys())\n",
    "names = {'Actinobacteria': '8924342'}\n",
    "nameSet = set(names)\n",
    "\n",
    "\n",
    "for name in dataSet.intersection(nameSet):\n",
    "    print(name, names[name])\n",
    "    print(name, Data[name])"
   ]
  },
  {
   "cell_type": "code",
   "execution_count": 3,
   "metadata": {},
   "outputs": [
    {
     "name": "stdout",
     "output_type": "stream",
     "text": [
      "0 Exists in both Arrays\n",
      "1 Doesn't exist in arr2\n",
      "2 Exists in both Arrays\n",
      "3 Doesn't exist in arr2\n",
      "4 Exists in both Arrays\n",
      "5 Exists in both Arrays\n"
     ]
    }
   ],
   "source": [
    "arr1 = [0, 1, 2, 3, 4, 5]\n",
    "arr2 = [0, 2, 4, 5]\n",
    "for x in arr1:\n",
    "    if x in arr2:\n",
    "        print(x, \"Exists in both Arrays\")\n",
    "    else:\n",
    "        print(x, \"Doesn't exist in arr2\")"
   ]
  }
 ],
 "metadata": {
  "kernelspec": {
   "display_name": "Python 3",
   "language": "python",
   "name": "python3"
  },
  "language_info": {
   "codemirror_mode": {
    "name": "ipython",
    "version": 3
   },
   "file_extension": ".py",
   "mimetype": "text/x-python",
   "name": "python",
   "nbconvert_exporter": "python",
   "pygments_lexer": "ipython3",
   "version": "3.6.9"
  }
 },
 "nbformat": 4,
 "nbformat_minor": 2
}
