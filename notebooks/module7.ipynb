{
 "cells": [
  {
   "cell_type": "code",
   "execution_count": 3,
   "metadata": {},
   "outputs": [
    {
     "name": "stdout",
     "output_type": "stream",
     "text": [
      "Foo foo! bar!\n"
     ]
    }
   ],
   "source": [
    "# Defining methods\n",
    "\n",
    "def foo():\n",
    "    print(\"Foo foo! bar!\")\n",
    "    \n",
    "foo()"
   ]
  },
  {
   "cell_type": "code",
   "execution_count": 5,
   "metadata": {},
   "outputs": [
    {
     "name": "stdout",
     "output_type": "stream",
     "text": [
      "This method is called with variableVar0\n"
     ]
    }
   ],
   "source": [
    "def method1(variable):\n",
    "    # Local copy of variable created\n",
    "    print(\"This method is called with variable \"+str(variable))\n",
    "\n",
    "\n",
    "    method1(\"Var0\")"
   ]
  },
  {
   "cell_type": "code",
   "execution_count": 7,
   "metadata": {},
   "outputs": [
    {
     "name": "stdout",
     "output_type": "stream",
     "text": [
      "def0 def1\n"
     ]
    }
   ],
   "source": [
    "# Setting default values for variables in case nothing is passed\n",
    "def method2(var = \"def0\", var1 = \"def1\"):\n",
    "    print(var, var1)\n",
    "\n",
    "method2()"
   ]
  },
  {
   "cell_type": "code",
   "execution_count": 9,
   "metadata": {},
   "outputs": [
    {
     "name": "stdout",
     "output_type": "stream",
     "text": [
      "NewDef0 def1\n",
      "NewDef0 NewDef1\n",
      "NewDef0 NewDef1\n"
     ]
    }
   ],
   "source": [
    "# You can use assignment to specifiy for which variable you want to assign a value\n",
    "method2(var = \"NewDef0\")\n",
    "method2(var = \"NewDef0\", var1 = \"NewDef1\")\n",
    "method2(\"NewDef0\", \"NewDef1\")"
   ]
  },
  {
   "cell_type": "code",
   "execution_count": 12,
   "metadata": {},
   "outputs": [
    {
     "name": "stdout",
     "output_type": "stream",
     "text": [
      "(0, 1)\n",
      "[2, 3]\n",
      "6\n",
      "nnnnnn\n"
     ]
    }
   ],
   "source": [
    "# Methods can return anything\n",
    "# Tuple\n",
    "def getTuple():\n",
    "    return(0,1)\n",
    "print(getTuple())\n",
    "\n",
    "# List\n",
    "def getList():\n",
    "    return[2,3]\n",
    "print(getList())\n",
    "\n",
    "# Result of operation\n",
    "def multiply(x,y,z):\n",
    "    return x*y*z\n",
    "print(multiply(1,2,3))\n",
    "\n",
    "# Pass different data types\n",
    "print(multiply(\"n\",2,3))"
   ]
  },
  {
   "cell_type": "code",
   "execution_count": 26,
   "metadata": {},
   "outputs": [
    {
     "name": "stdout",
     "output_type": "stream",
     "text": [
      "4\n",
      "Globally defined:  4 \tLocally defined but global:  5\n",
      "Locally defined in method4():\t 5\n"
     ]
    }
   ],
   "source": [
    "# Defining and accessing global variables within a local function scope\n",
    "globalv = 4\n",
    "\n",
    "def method3():\n",
    "    print(globalv)\n",
    "method3()\n",
    "\n",
    "def method4():\n",
    "    global glob_v \n",
    "    glob_v = 5\n",
    "    print(\"Globally defined: \", globalv, \"\\tLocally defined but global: \", glob_v)    \n",
    "method4()\n",
    "\n",
    "# Now the variable that we defined locally in method4 is accessible in the global scope\n",
    "print(\"Locally defined in method4():\\t\",glob_v)"
   ]
  }
 ],
 "metadata": {
  "kernelspec": {
   "display_name": "Python 3",
   "language": "python",
   "name": "python3"
  },
  "language_info": {
   "codemirror_mode": {
    "name": "ipython",
    "version": 3
   },
   "file_extension": ".py",
   "mimetype": "text/x-python",
   "name": "python",
   "nbconvert_exporter": "python",
   "pygments_lexer": "ipython3",
   "version": "3.6.9"
  }
 },
 "nbformat": 4,
 "nbformat_minor": 2
}
