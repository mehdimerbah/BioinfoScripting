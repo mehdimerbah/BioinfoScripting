{
 "cells": [
  {
   "cell_type": "code",
   "execution_count": 16,
   "metadata": {},
   "outputs": [],
   "source": [
    "# Opening the files and checking for \n",
    "f = open(\"test.txt\")\n",
    "import os\n",
    "cwd = os.getcwd()\n",
    "target = os.path.join(cwd, \"test1.txt\")\n",
    "f2 = open(target, \"a\")"
   ]
  },
  {
   "cell_type": "code",
   "execution_count": 17,
   "metadata": {},
   "outputs": [
    {
     "name": "stdout",
     "output_type": "stream",
     "text": [
      "Line  1\n",
      "Line  2\n",
      "Line  3\n",
      "Line  4\n",
      "Line  5\n",
      "Line  6\n",
      "Line  7\n",
      "Line  8\n",
      "Line  9\n",
      "Line  10\n",
      "Line  11\n",
      "Line  12\n",
      "Line  13\n",
      "Line  14\n",
      "Line  15\n",
      "\n"
     ]
    }
   ],
   "source": [
    "for line in f:\n",
    "    print(line.strip())\n",
    "\n",
    "f2.write(\"Appended data\")\n",
    "f2.close()    "
   ]
  },
  {
   "cell_type": "code",
   "execution_count": 18,
   "metadata": {},
   "outputs": [
    {
     "name": "stdout",
     "output_type": "stream",
     "text": [
      "Appended data\n"
     ]
    }
   ],
   "source": [
    "# Reversing line by line\n",
    "target = os.path.join(cwd, \"test1.txt\")\n",
    "f2 = open(target, \"r\")\n",
    "lines = f2.readlines()\n",
    "\n",
    "for x in lines:\n",
    "    print(x)"
   ]
  },
  {
   "cell_type": "code",
   "execution_count": 19,
   "metadata": {},
   "outputs": [
    {
     "name": "stdout",
     "output_type": "stream",
     "text": [
      "1  eniL\n",
      "2  eniL\n",
      "3  eniL\n",
      "4  eniL\n",
      "5  eniL\n",
      "6  eniL\n",
      "7  eniL\n",
      "8  eniL\n",
      "9  eniL\n",
      "01  eniL\n",
      "11  eniL\n",
      "21  eniL\n",
      "31  eniL\n",
      "41  eniL\n",
      "51  eniL\n",
      "\n"
     ]
    }
   ],
   "source": [
    "f0 = open(\"test.txt\")\n",
    "lines = f0.readlines()\n",
    "\n",
    "for line in lines:\n",
    "    line = line.strip()\n",
    "    tempLine = list(line)\n",
    "    tempLine.reverse()\n",
    "    print(\"\".join(tempLine))\n",
    "\n",
    "    \n"
   ]
  },
  {
   "cell_type": "code",
   "execution_count": 20,
   "metadata": {},
   "outputs": [
    {
     "ename": "SystemExit",
     "evalue": "",
     "output_type": "error",
     "traceback": [
      "An exception has occurred, use %tb to see the full traceback.\n",
      "\u001b[0;31mSystemExit\u001b[0m\n"
     ]
    },
    {
     "name": "stderr",
     "output_type": "stream",
     "text": [
      "/usr/lib/python3/dist-packages/IPython/core/interactiveshell.py:2890: UserWarning: To exit: use 'exit', 'quit', or Ctrl-D.\n",
      "  warn(\"To exit: use 'exit', 'quit', or Ctrl-D.\", stacklevel=1)\n"
     ]
    }
   ],
   "source": [
    "# killing a program\n",
    "\n",
    "import sys\n",
    "\n",
    "sys.exit()\n"
   ]
  },
  {
   "cell_type": "code",
   "execution_count": 21,
   "metadata": {},
   "outputs": [
    {
     "name": "stdout",
     "output_type": "stream",
     "text": [
      "An error has occured\n"
     ]
    }
   ],
   "source": [
    "# Exception handling\n",
    "\n",
    "try:\n",
    "    open(\"ThisIsDummyFile.txt\")\n",
    "except:\n",
    "    print(\"An error has occured\")\n",
    "    \n",
    "    "
   ]
  },
  {
   "cell_type": "code",
   "execution_count": 22,
   "metadata": {},
   "outputs": [
    {
     "data": {
      "text/plain": [
       "b'Line  1\\nLine  2\\nLine  3\\nLine  4\\nLine  5\\nLine  6\\nLine  7\\nLine  8\\nLine  9\\nLine  10\\nLine  11\\nLine  12\\nLine  13\\nLine  14\\nLine  15\\n\\n'"
      ]
     },
     "execution_count": 22,
     "metadata": {},
     "output_type": "execute_result"
    }
   ],
   "source": [
    "# Reading a binary file requires specifying the \"rb\" flag for the open function\n",
    "f1 = open(\"test.txt\", \"rb\")\n",
    "f1.read()\n",
    "\n"
   ]
  },
  {
   "cell_type": "code",
   "execution_count": 23,
   "metadata": {},
   "outputs": [
    {
     "name": "stdout",
     "output_type": "stream",
     "text": [
      "Directory  testDir  already exists\n"
     ]
    }
   ],
   "source": [
    "import os\n",
    "dirName = \"testDir\"\n",
    "\n",
    "if not os.path.exists(dirName):\n",
    "    os.mkdir(dirName)\n",
    "    print(\"Directory \", dirName, \" Created\")\n",
    "else: \n",
    "    print(\"Directory \", dirName, \" already exists\")\n",
    "    "
   ]
  },
  {
   "cell_type": "code",
   "execution_count": 24,
   "metadata": {},
   "outputs": [
    {
     "name": "stdout",
     "output_type": "stream",
     "text": [
      "/home/mehdimerbah\n"
     ]
    }
   ],
   "source": [
    "# cd\n",
    "os.chdir('/home/mehdimerbah/')\n",
    "# pwd\n",
    "print(os.getcwd())\n"
   ]
  }
 ],
 "metadata": {
  "kernelspec": {
   "display_name": "Python 3",
   "language": "python",
   "name": "python3"
  },
  "language_info": {
   "codemirror_mode": {
    "name": "ipython",
    "version": 3
   },
   "file_extension": ".py",
   "mimetype": "text/x-python",
   "name": "python",
   "nbconvert_exporter": "python",
   "pygments_lexer": "ipython3",
   "version": "3.6.9"
  }
 },
 "nbformat": 4,
 "nbformat_minor": 2
}
