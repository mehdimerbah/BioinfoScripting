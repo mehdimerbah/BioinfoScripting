{
 "cells": [
  {
   "cell_type": "code",
   "execution_count": 1,
   "metadata": {},
   "outputs": [
    {
     "name": "stdout",
     "output_type": "stream",
     "text": [
      "0 : Dive\tDate\tLat\tLon\tDepth\tNotes\n",
      "1 : Tiburon 596\t19-Jul-03\t36 36.12 N\t122 22.48 W\t1190\tholotype\n",
      "2 : JSL II 1411\t16-Sep-86\t39 56.4 N\t70 14.3 W\t518\tparatype\n",
      "3 : JSL II 930\t18-Aug-84\t40 05.03 N\t69 03.01 W\t686\tYoungbluth (1989)\n",
      "4 : Ventana 1575\t11-Mar-99\t36 42.24 N\t122 02.52 W\t767\t\n",
      "5 : Ventana 1777\t16-Jun-00\t36 42.60 N\t122 02.70 W\t934\t\n",
      "6 : Ventana 2243\t9-Sep-02\t36 42.48 N\t122 03.84 W\t1001\t\n",
      "7 : Tiburon 515\t24-Nov-02\t36 42.00 N\t122 01.98 W\t1156\t\n",
      "8 : Tiburon 531\t13-Mar-03\t24 19.02 N\t109 12.18 W\t1144\t\n",
      "9 : Tiburon 547\t31-Mar-03\t24 14.04 N\t109 40.02 W\t1126\t\n",
      "10 : JSL II 3457\t26-Sep-03\t40 17.77 N\t68 06.68 W\t862\tFrancesc Pages (pers.comm)\n"
     ]
    }
   ],
   "source": [
    "#!/usr/bin/python3\n",
    "\n",
    "# Set the input file name\n",
    "# (The program must be run from within the directory \n",
    "# that contains this data file)\n",
    "InFileName = 'Marrus_claudanielis.txt'\n",
    "\n",
    "# Open the input file for reading\n",
    "InFile = open(InFileName, 'r')\n",
    "\n",
    "# Initialize the counter used to keep track of line numbers\n",
    "LineNumber = 0\n",
    "\n",
    "# Loop through each line in the file\n",
    "for Line in InFile:\n",
    "    # Remove the line-ending characters\n",
    "    Line=Line.strip('\\n')\n",
    "    # Print the line\n",
    "    print (LineNumber,\":\", Line)\n",
    "\n",
    "    # Index the counter used to keep track of line numbers\n",
    "    LineNumber = LineNumber + 1\n",
    "\n",
    "# After the loop is completed, close the file\n",
    "InFile.close()"
   ]
  }
 ],
 "metadata": {
  "kernelspec": {
   "display_name": "Python 3",
   "language": "python",
   "name": "python3"
  },
  "language_info": {
   "codemirror_mode": {
    "name": "ipython",
    "version": 3
   },
   "file_extension": ".py",
   "mimetype": "text/x-python",
   "name": "python",
   "nbconvert_exporter": "python",
   "pygments_lexer": "ipython3",
   "version": "3.6.9"
  },
  "toc": {
   "base_numbering": 1,
   "nav_menu": {},
   "number_sections": true,
   "sideBar": true,
   "skip_h1_title": false,
   "title_cell": "Table of Contents",
   "title_sidebar": "Contents",
   "toc_cell": false,
   "toc_position": {},
   "toc_section_display": true,
   "toc_window_display": false
  }
 },
 "nbformat": 4,
 "nbformat_minor": 5
}
