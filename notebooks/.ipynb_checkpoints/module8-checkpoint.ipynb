{
 "cells": [
  {
   "cell_type": "code",
   "execution_count": 5,
   "metadata": {},
   "outputs": [
    {
     "name": "stdout",
     "output_type": "stream",
     "text": [
      "8 8\n",
      "9 8\n",
      "9 9\n",
      "[2, 3, 4, 2] [2, 3, 4, 2]\n"
     ]
    }
   ],
   "source": [
    "# Referencing\n",
    "x = 8\n",
    "y = x\n",
    "# Simple data types, defined by value\n",
    "print(x, y)\n",
    "x = 9\n",
    "print(x, y)\n",
    "y = y + 1\n",
    "print(x, y)\n",
    "\n",
    "# Check the following\n",
    "# Notice how modifying the original or the copy changes both\n",
    "# data structures are defined by reference\n",
    "l0 = [2, 3, 4]\n",
    "l1 = l0\n",
    "# The following will change both lists because they point to the same \n",
    "#memory location, pointers set to same address\n",
    "l1.append(2)\n",
    "print(l1, l0)"
   ]
  },
  {
   "cell_type": "code",
   "execution_count": 8,
   "metadata": {},
   "outputs": [
    {
     "name": "stdout",
     "output_type": "stream",
     "text": [
      "Outer string, before = Old String\n",
      "Inner String: New string\n",
      "Outer string, after = Old String\n"
     ]
    }
   ],
   "source": [
    "# Methods create local copies within their scope, they do not modify\n",
    "#the passed values\n",
    "def replaceString(the_string):\n",
    "    the_string = \"New string\"\n",
    "    print('Inner String:', the_string)\n",
    "\n",
    "outer_string = 'Old String'\n",
    "print('Outer string, before =', outer_string)\n",
    "replaceString(outer_string)\n",
    "print('Outer string, after =', outer_string)"
   ]
  },
  {
   "cell_type": "code",
   "execution_count": 13,
   "metadata": {},
   "outputs": [
    {
     "name": "stdout",
     "output_type": "stream",
     "text": [
      "Outer list, before = ['Old Element1', 'Old Element2']\n",
      "Outer list, after = ['Old Element1', 'Old Element2', 'New Element']\n",
      "\n",
      "-------- Concatenation --------\n",
      "\n",
      "Outer list, before = ['Old Element1', 'Old Element2']\n",
      "Inner list ['Old Element1', 'Old Element2', 'New Element1', 'New Element2']\n",
      "Outer list, after = ['Old Element1', 'Old Element2']\n"
     ]
    }
   ],
   "source": [
    "# On the other hand, with data-structures are defined by reference\n",
    "#Any change to the values in a local scope, takes effect globally\n",
    "#since the change is done to the value referenced memory address\n",
    "\n",
    "def appendToList(list):\n",
    "    list.append(\"New Element\")\n",
    "\n",
    "l = ['Old Element1', 'Old Element2']\n",
    "\n",
    "print('Outer list, before =', l)\n",
    "appendToList(l)\n",
    "print('Outer list, after =', l)\n",
    "\n",
    "print(\"\\n-------- Concatenation --------\\n\")\n",
    "def appendToList(list):\n",
    "    list = list + ['New Element1', 'New Element2']\n",
    "    print(\"Inner list\", list)\n",
    "\n",
    "l = ['Old Element1', 'Old Element2']\n",
    "print('Outer list, before =', l)\n",
    "appendToList(l)\n",
    "print('Outer list, after =', l)"
   ]
  }
 ],
 "metadata": {
  "kernelspec": {
   "display_name": "Python 3",
   "language": "python",
   "name": "python3"
  },
  "language_info": {
   "codemirror_mode": {
    "name": "ipython",
    "version": 3
   },
   "file_extension": ".py",
   "mimetype": "text/x-python",
   "name": "python",
   "nbconvert_exporter": "python",
   "pygments_lexer": "ipython3",
   "version": "3.6.9"
  }
 },
 "nbformat": 4,
 "nbformat_minor": 2
}
