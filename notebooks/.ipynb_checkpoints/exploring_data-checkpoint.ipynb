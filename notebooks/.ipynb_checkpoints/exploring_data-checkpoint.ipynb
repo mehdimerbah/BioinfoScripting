{
 "cells": [
  {
   "cell_type": "code",
   "execution_count": 1,
   "metadata": {},
   "outputs": [
    {
     "name": "stdout",
     "output_type": "stream",
     "text": [
      "Depth: 1190\tLat: 36 36.12 N\t Lon: 122 22.48 W\n",
      "Depth: 518\tLat: 39 56.4 N\t Lon: 70 14.3 W\n",
      "Depth: 686\tLat: 40 05.03 N\t Lon: 69 03.01 W\n",
      "Depth: 767\tLat: 36 42.24 N\t Lon: 122 02.52 W\n",
      "Depth: 934\tLat: 36 42.60 N\t Lon: 122 02.70 W\n",
      "Depth: 1001\tLat: 36 42.48 N\t Lon: 122 03.84 W\n",
      "Depth: 1156\tLat: 36 42.00 N\t Lon: 122 01.98 W\n",
      "Depth: 1144\tLat: 24 19.02 N\t Lon: 109 12.18 W\n",
      "Depth: 1126\tLat: 24 14.04 N\t Lon: 109 40.02 W\n",
      "Depth: 862\tLat: 40 17.77 N\t Lon: 68 06.68 W\n"
     ]
    }
   ],
   "source": [
    "#!/usr/bin/env python3\n",
    "\n",
    "# Set the input file name\n",
    "# (The program must be run from within the directory \n",
    "# that contains this data file)\n",
    "InFileName = 'Marrus_claudanielis.txt'\n",
    "\n",
    "# Open the input file for reading\n",
    "InFile = open(InFileName, 'r')\n",
    "\n",
    "# Initialize the counter used to keep track of line numbers\n",
    "LineNumber = 0\n",
    "\n",
    "# Loop through each line in the file\n",
    "for Line in InFile:\n",
    "    if LineNumber > 0:\n",
    "        # Remove the line ending characters\n",
    "        Line=Line.strip('\\n')\n",
    "\n",
    "        # Separate the line into a list of its tab-delimited components\n",
    "        LineList=Line.split('\\t')\n",
    "\n",
    "        # Print the line\n",
    "        # print LineNumber,\":\", LineList\n",
    "        # print LineList[4], LineList[2], LineList[3]\n",
    "        print (\"Depth: %s\\tLat: %s\\t Lon: %s\" % (LineList[4], LineList[2], LineList[3]))\n",
    "\n",
    "    # Index the counter used to keep track of line numbers\n",
    "    LineNumber = LineNumber + 1\n",
    "\n",
    "# After the loop is completed, close the file\n",
    "InFile.close()\n"
   ]
  }
 ],
 "metadata": {
  "kernelspec": {
   "display_name": "Python 3",
   "language": "python",
   "name": "python3"
  },
  "language_info": {
   "codemirror_mode": {
    "name": "ipython",
    "version": 3
   },
   "file_extension": ".py",
   "mimetype": "text/x-python",
   "name": "python",
   "nbconvert_exporter": "python",
   "pygments_lexer": "ipython3",
   "version": "3.6.9"
  },
  "toc": {
   "base_numbering": 1,
   "nav_menu": {},
   "number_sections": true,
   "sideBar": true,
   "skip_h1_title": false,
   "title_cell": "Table of Contents",
   "title_sidebar": "Contents",
   "toc_cell": false,
   "toc_position": {},
   "toc_section_display": true,
   "toc_window_display": false
  }
 },
 "nbformat": 4,
 "nbformat_minor": 5
}
