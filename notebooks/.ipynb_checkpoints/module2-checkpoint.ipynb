{
 "cells": [
  {
   "cell_type": "code",
   "execution_count": 3,
   "metadata": {},
   "outputs": [
    {
     "name": "stdout",
     "output_type": "stream",
     "text": [
      "Hellow\n",
      "Greater than 5, but less than 10\n"
     ]
    }
   ],
   "source": [
    "x = 5\n",
    "\n",
    "if x < 10:\n",
    "    print(\"Hellow\")\n",
    "else:\n",
    "    print(\"Bye\")\n",
    "\n",
    "    \n",
    "if x < 10:\n",
    "\n",
    "    if x < 5:\n",
    "\n",
    "        print(\"Less than 5\")\n",
    "\n",
    "    else:\n",
    "\n",
    "        print(\"Greater than 5, but less than 10\")\n",
    "\n",
    "else:\n",
    "\n",
    "        print(\"Greater than 10\")"
   ]
  },
  {
   "cell_type": "code",
   "execution_count": 5,
   "metadata": {},
   "outputs": [
    {
     "name": "stdout",
     "output_type": "stream",
     "text": [
      "Even\n",
      "Odd\n"
     ]
    }
   ],
   "source": [
    "sum = 50\n",
    "\n",
    "if sum%2==0:\n",
    "    print(\"Even\")\n",
    "else:\n",
    "    print(\"Odd\")\n",
    "\n",
    "sum = 75\n",
    "\n",
    "if sum%2==0:\n",
    "    print(\"Even\")\n",
    "else:\n",
    "    print(\"Odd\")"
   ]
  },
  {
   "cell_type": "code",
   "execution_count": 7,
   "metadata": {},
   "outputs": [
    {
     "name": "stdout",
     "output_type": "stream",
     "text": [
      "Guess the number that was generated?48\n",
      "The number generated was 3\n",
      "The difference is -45\n"
     ]
    }
   ],
   "source": [
    "import random\n",
    "\n",
    "randomNum = random.randrange(100)\n",
    "guessedNumber = input(\"Guess the number that was generated?\")\n",
    "guessedNumber = int(guessedNumber)\n",
    "\n",
    "if randomNum == guessedNumber:\n",
    "    print(\"Correctly guessed!\")\n",
    "else:\n",
    "    print(\"The number generated was\", randomNum)\n",
    "\n",
    "print(\"The difference is\", randomNum - guessedNumber)"
   ]
  },
  {
   "cell_type": "code",
   "execution_count": 8,
   "metadata": {},
   "outputs": [
    {
     "name": "stdout",
     "output_type": "stream",
     "text": [
      "It is not\n",
      "False False True\n"
     ]
    }
   ],
   "source": [
    "# ASCII Compare chars\n",
    "\n",
    "if \"A\" > \"z\":\n",
    "    print(\"A iz greater than z\")\n",
    "else:\n",
    "    print(\"It is not\")\n",
    "\n",
    "print(\"A\" > \"z\", \"A\" == \"z\", \"A\" < \"z\")"
   ]
  },
  {
   "cell_type": "code",
   "execution_count": 9,
   "metadata": {},
   "outputs": [
    {
     "name": "stdout",
     "output_type": "stream",
     "text": [
      "A is Smaller than z\n"
     ]
    }
   ],
   "source": [
    "# Shorthand notation for if\n",
    "\n",
    "x = \"Greater\" if \"A\" > \"z\" else \"Smaller\"\n",
    "print(\"A is %s than z\" %x)"
   ]
  }
 ],
 "metadata": {
  "kernelspec": {
   "display_name": "Python 3",
   "language": "python",
   "name": "python3"
  },
  "language_info": {
   "codemirror_mode": {
    "name": "ipython",
    "version": 3
   },
   "file_extension": ".py",
   "mimetype": "text/x-python",
   "name": "python",
   "nbconvert_exporter": "python",
   "pygments_lexer": "ipython3",
   "version": "3.6.9"
  }
 },
 "nbformat": 4,
 "nbformat_minor": 2
}
