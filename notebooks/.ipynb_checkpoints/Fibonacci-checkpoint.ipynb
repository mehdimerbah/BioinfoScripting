{
 "cells": [
  {
   "cell_type": "code",
   "execution_count": 27,
   "metadata": {},
   "outputs": [],
   "source": [
    "import time\n",
    "def fib(n):\n",
    "    if n==1 or n== 2:\n",
    "        return 1\n",
    "    else:\n",
    "        result = fib(n-1) + fib(n-2)\n",
    "    return result\n"
   ]
  },
  {
   "cell_type": "code",
   "execution_count": 28,
   "metadata": {},
   "outputs": [
    {
     "name": "stdout",
     "output_type": "stream",
     "text": [
      "Fib(5) is: 5 \n",
      "Execution time: 0.000150\n"
     ]
    }
   ],
   "source": [
    "start = time.process_time()\n",
    "print(\"Fib(5) is: %d \\nExecution time: %f\" % (fib(5), (time.process_time() - start)))"
   ]
  },
  {
   "cell_type": "code",
   "execution_count": 29,
   "metadata": {},
   "outputs": [
    {
     "name": "stdout",
     "output_type": "stream",
     "text": [
      "Fib(24) is: 46368 \n",
      "Execution time: 0.013149\n"
     ]
    }
   ],
   "source": [
    "start = time.process_time()\n",
    "print(\"Fib(24) is: %d \\nExecution time: %f\" % (fib(24), (time.process_time() - start)))"
   ]
  },
  {
   "cell_type": "code",
   "execution_count": 30,
   "metadata": {},
   "outputs": [
    {
     "name": "stdout",
     "output_type": "stream",
     "text": [
      "Fib(40) is: 102334155 \n",
      "Execution time: 16.888310\n"
     ]
    }
   ],
   "source": [
    "start = time.process_time()\n",
    "print(\"Fib(40) is: %d \\nExecution time: %f\" % (fib(40), (time.process_time() - start)))"
   ]
  },
  {
   "cell_type": "code",
   "execution_count": 31,
   "metadata": {
    "slideshow": {
     "slide_type": "slide"
    }
   },
   "outputs": [],
   "source": [
    "def fib2(n, memo):\n",
    "    if memo[n] is not None:\n",
    "        return memo[n]\n",
    "    if n==1 or n== 2:\n",
    "        return 1\n",
    "    else:\n",
    "        result = fib2(n-1, memo) + fib2(n-2, memo)\n",
    "    memo[n] = result\n",
    "    return result\n",
    "\n",
    "def fib_memo(n):\n",
    "    memo = [None]*(n+1)\n",
    "    return fib2(n, memo)"
   ]
  },
  {
   "cell_type": "code",
   "execution_count": 32,
   "metadata": {},
   "outputs": [
    {
     "name": "stdout",
     "output_type": "stream",
     "text": [
      "Fib(40) is: 102334155 \n",
      "Execution time: 0.000184\n"
     ]
    }
   ],
   "source": [
    "start = time.process_time()\n",
    "print(\"Fib(40) is: %d \\nExecution time: %f\" % (fib_memo(40), (time.process_time() - start)))"
   ]
  }
 ],
 "metadata": {
  "celltoolbar": "Slideshow",
  "kernelspec": {
   "display_name": "Python 3",
   "language": "python",
   "name": "python3"
  },
  "language_info": {
   "codemirror_mode": {
    "name": "ipython",
    "version": 3
   },
   "file_extension": ".py",
   "mimetype": "text/x-python",
   "name": "python",
   "nbconvert_exporter": "python",
   "pygments_lexer": "ipython3",
   "version": "3.6.9"
  }
 },
 "nbformat": 4,
 "nbformat_minor": 2
}
