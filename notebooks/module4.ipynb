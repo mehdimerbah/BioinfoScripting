{
 "cells": [
  {
   "cell_type": "code",
   "execution_count": 7,
   "metadata": {},
   "outputs": [
    {
     "name": "stdout",
     "output_type": "stream",
     "text": [
      "('test', 123, ('Hellow', 555))\n"
     ]
    }
   ],
   "source": [
    "my_tuple = (\"test\", 123, (\"Hellow\", 555))\n",
    "\n",
    "print(my_tuple)"
   ]
  },
  {
   "cell_type": "code",
   "execution_count": 11,
   "metadata": {},
   "outputs": [
    {
     "name": "stdout",
     "output_type": "stream",
     "text": [
      "test 123 ('Hellow', 555)\n",
      "Hellow\n"
     ]
    }
   ],
   "source": [
    "print(my_tuple[0], my_tuple[1], my_tuple[2])\n",
    "print(my_tuple[2][0])"
   ]
  },
  {
   "cell_type": "code",
   "execution_count": 19,
   "metadata": {},
   "outputs": [
    {
     "name": "stdout",
     "output_type": "stream",
     "text": [
      "123\n"
     ]
    }
   ],
   "source": [
    "print(my_tuple[-2])"
   ]
  },
  {
   "cell_type": "code",
   "execution_count": 22,
   "metadata": {},
   "outputs": [
    {
     "name": "stdout",
     "output_type": "stream",
     "text": [
      "3\n",
      "2\n"
     ]
    }
   ],
   "source": [
    "print(len(my_tuple))\n",
    "print(len(my_tuple[2]))"
   ]
  },
  {
   "cell_type": "code",
   "execution_count": 24,
   "metadata": {},
   "outputs": [
    {
     "name": "stdout",
     "output_type": "stream",
     "text": [
      "(1, 2, 3, 4, 5, 6)\n"
     ]
    }
   ],
   "source": [
    "## Concatination\n",
    "concat = (1,2,3)+(4,5,6)\n",
    "print(concat)"
   ]
  },
  {
   "cell_type": "code",
   "execution_count": 28,
   "metadata": {},
   "outputs": [
    {
     "name": "stdout",
     "output_type": "stream",
     "text": [
      "(1, 2, 3, 4, 5, 6, 7, 8, 9, 10)\n"
     ]
    }
   ],
   "source": [
    "## Create a tuple differently\n",
    "\n",
    "numbers = tuple(range(1,11))\n",
    "print(numbers)"
   ]
  },
  {
   "cell_type": "code",
   "execution_count": 45,
   "metadata": {},
   "outputs": [
    {
     "name": "stdout",
     "output_type": "stream",
     "text": [
      "Odd\n",
      " (1, 3, 5, 7, 9)\n",
      "Even\n",
      " (2, 4, 6, 8, 10)\n"
     ]
    }
   ],
   "source": [
    "# Get a tuple using a generator, and build it with a comprehension\n",
    "oddNumbers = tuple(i for i in numbers if i% 2 == 1)\n",
    "evenNumbers = tuple(i for i in numbers if i% 2 == 0)\n",
    "print(\"Odd\\n\", oddNumbers)\n",
    "print(\"Even\\n\", evenNumbers)"
   ]
  },
  {
   "cell_type": "code",
   "execution_count": 53,
   "metadata": {},
   "outputs": [
    {
     "name": "stdout",
     "output_type": "stream",
     "text": [
      "['1', '3']\n"
     ]
    }
   ],
   "source": [
    "l3 = list(\"13\")\n",
    "print(l3)"
   ]
  },
  {
   "cell_type": "code",
   "execution_count": 61,
   "metadata": {},
   "outputs": [
    {
     "name": "stdout",
     "output_type": "stream",
     "text": [
      "['List', 5, 4, 3, 2, 0, 'List']\n",
      "['List', 'NewVal', 4, 3, 2, 0, 'List']\n",
      "['List', 0, 2, 3, 4, 'NewVal', 'List']\n"
     ]
    }
   ],
   "source": [
    "## Appending Elements to lists\n",
    "\n",
    "array = ['List', 5,4,3,2,0 ]\n",
    "array.append('List')\n",
    "print(array)\n",
    "\n",
    "## Change the Value at specific index\n",
    "\n",
    "array[1] = \"NewVal\"\n",
    "print(array)\n",
    "## Reverse Array\n",
    "\n",
    "array.reverse()\n",
    "print(array)"
   ]
  },
  {
   "cell_type": "code",
   "execution_count": 66,
   "metadata": {},
   "outputs": [
    {
     "name": "stdout",
     "output_type": "stream",
     "text": [
      "['List', 0, 3, 4, 'NewVal', 'List']\n"
     ]
    }
   ],
   "source": [
    "## Popping elements: Just like a stack\n",
    "## We use popping for memory optimization\n",
    "array = ['List', 0, 2, 3, 4, 'NewVal', 'List']\n",
    "array.pop(2)\n",
    "print(array)\n",
    "\n",
    "array.remove(\"NewVal\")\n"
   ]
  },
  {
   "cell_type": "code",
   "execution_count": 69,
   "metadata": {},
   "outputs": [
    {
     "name": "stdout",
     "output_type": "stream",
     "text": [
      "['List', 0, 3, 4, 'List']\n"
     ]
    }
   ],
   "source": [
    "print(array)"
   ]
  },
  {
   "cell_type": "code",
   "execution_count": 71,
   "metadata": {},
   "outputs": [
    {
     "name": "stdout",
     "output_type": "stream",
     "text": [
      "[1, 2, 18, 19, 34]\n"
     ]
    }
   ],
   "source": [
    "## The sort function\n",
    "\n",
    "array1 = [1, 19, 2, 34, 18]\n",
    "array1.sort()\n",
    "print(array1)"
   ]
  },
  {
   "cell_type": "code",
   "execution_count": 73,
   "metadata": {},
   "outputs": [
    {
     "name": "stdout",
     "output_type": "stream",
     "text": [
      "['George', 'Joseph', 'Maria', 'Rami', 'Tony']\n"
     ]
    }
   ],
   "source": [
    "## Sort works the same for strings\n",
    "names=[\"George\",\"Tony\",\"Maria\",\"Joseph\",\"Rami\"]\n",
    "names.sort()\n",
    "print(names)"
   ]
  },
  {
   "cell_type": "code",
   "execution_count": 76,
   "metadata": {},
   "outputs": [
    {
     "data": {
      "text/plain": [
       "['This', 'is', 'just', 'a', 'test,', 'to', 'see', 'if', 'this', 'works']"
      ]
     },
     "execution_count": 76,
     "metadata": {},
     "output_type": "execute_result"
    }
   ],
   "source": [
    "\"This is just a test, to see if this works\".split(\" \")"
   ]
  },
  {
   "cell_type": "code",
   "execution_count": 79,
   "metadata": {},
   "outputs": [
    {
     "name": "stdout",
     "output_type": "stream",
     "text": [
      "Title: Title1\n",
      "Release Date: 1999\n",
      "Artist: Artist1\n",
      "Title: Title2\n",
      "Release Date: 2000\n",
      "Artist: Artist2\n",
      "Title: Title3\n",
      "Release Date: 2001\n",
      "Artist: Artist3\n",
      "Title: Title4\n",
      "Release Date: 2002\n",
      "Artist: Artist4\n",
      "Title: Title5\n",
      "Release Date: 2003\n",
      "Artist: Artist5\n"
     ]
    }
   ],
   "source": [
    "## Working with For loops\n",
    "Audios=[\"Title1 1999 Artist1\"]\n",
    "Audios=Audios+[\"Title2 2000 Artist2\"]\n",
    "Audios.append(\"Title3 2001 Artist3\")\n",
    "Audios.append(\"Title4 2002 Artist4\")\n",
    "Audios.append(\"Title5 2003 Artist5\")\n",
    "\n",
    "for entry in Audios:\n",
    "    result = entry.split(\" \") \n",
    "    print(\"Title:\", result[0])\n",
    "    print(\"Release Date:\", result[1])\n",
    "    print(\"Artist:\", result[2])\n",
    "    "
   ]
  },
  {
   "cell_type": "code",
   "execution_count": 80,
   "metadata": {},
   "outputs": [
    {
     "name": "stdout",
     "output_type": "stream",
     "text": [
      "Entry number0 Title: Title1 Release Date: 1999 Artist:  Artist1\n",
      "Entry number1 Title: Title2 Release Date: 2000 Artist:  Artist2\n",
      "Entry number2 Title: Title3 Release Date: 2001 Artist:  Artist3\n",
      "Entry number3 Title: Title4 Release Date: 2002 Artist:  Artist4\n",
      "Entry number4 Title: Title5 Release Date: 2003 Artist:  Artist5\n"
     ]
    }
   ],
   "source": [
    "## using the index and the element itself\n",
    "for i, entry, in enumerate(Audios):\n",
    "    result = entry.split(\" \")\n",
    "    print(\"Entry number\"+str(i),\"Title:\", result[0],\"Release Date:\", result[1], \"Artist: \", result[2])"
   ]
  }
 ],
 "metadata": {
  "kernelspec": {
   "display_name": "Python 3",
   "language": "python",
   "name": "python3"
  },
  "language_info": {
   "codemirror_mode": {
    "name": "ipython",
    "version": 3
   },
   "file_extension": ".py",
   "mimetype": "text/x-python",
   "name": "python",
   "nbconvert_exporter": "python",
   "pygments_lexer": "ipython3",
   "version": "3.6.9"
  }
 },
 "nbformat": 4,
 "nbformat_minor": 2
}
